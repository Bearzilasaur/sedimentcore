{
 "cells": [
  {
   "cell_type": "markdown",
   "metadata": {},
   "source": [
    "# Sediment Graph\n",
    "This notebook is primarily for the conversion of sedimetn data from csv to a sediment graph based upon seaborn and matplotlib.\n",
    "\n",
    "## Secondary Purpose\n",
    "The secondary purpose for this notebook is to actually learn how to use jupyter notebooks for both scientific programming, and also to remind myself what I am doing after going away for a while. \n",
    "\n",
    "# The Code\n",
    "First I must import the .csv file which I have already generated using both R and python 3. "
   ]
  },
  {
   "cell_type": "code",
   "execution_count": null,
   "metadata": {},
   "outputs": [],
   "source": []
  }
 ],
 "metadata": {
  "kernelspec": {
   "display_name": "Python 3",
   "language": "python",
   "name": "python3"
  },
  "language_info": {
   "codemirror_mode": {
    "name": "ipython",
    "version": 3
   },
   "file_extension": ".py",
   "mimetype": "text/x-python",
   "name": "python",
   "nbconvert_exporter": "python",
   "pygments_lexer": "ipython3",
   "version": "3.7.2"
  }
 },
 "nbformat": 4,
 "nbformat_minor": 2
}
